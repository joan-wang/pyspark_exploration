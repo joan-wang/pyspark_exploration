{
 "cells": [
  {
   "cell_type": "markdown",
   "metadata": {},
   "source": [
    "### Data sources\n",
    "- LEHD Origin-Destination Employment Statistics (LODES): The definition of variable codes, datasets, etc. can be found at the latest [LODES 7.3 Technical Documentation](https://lehd.ces.census.gov/data/lodes/LODES7/LODESTechDoc7.3.pdf). All LEHD Origin-Destination Employment Statistics (LODES) data are available, as described in the LODES documentation above. No changes have been made to the original CSV files. Data are available from 2002 to 2015. See the documentation above for caveats.\n",
    "- Driving Times and Distances Dataset: Census tracts are 2010 vintage, and the columns are the origin tract, destination travel, travel time in minutes, and travel distance in miles. These data were calculated by the Data Science team at the Urban Institute. See [Github repo](https://github.com/UI-Research/spark-osrm)."
   ]
  },
  {
   "cell_type": "code",
   "execution_count": 1,
   "metadata": {},
   "outputs": [],
   "source": [
    "import pyspark\n",
    "import numpy as np\n",
    "import pandas as pd\n",
    "from pyspark.sql.functions import *\n",
    "from pyspark.sql.window import Window\n",
    "from pyspark.ml.linalg import Vectors\n",
    "from pyspark.ml.regression import LinearRegression\n",
    "from pyspark.ml.evaluation import RegressionEvaluator \n",
    "\n",
    "from IPython.core.interactiveshell import InteractiveShell\n",
    "from pyspark.sql.types import StringType\n",
    "\n",
    "warnings.filterwarnings(action='once')\n",
    "InteractiveShell.ast_node_interactivity = \"all\"\n",
    "%matplotlib inline"
   ]
  },
  {
   "cell_type": "code",
   "execution_count": 2,
   "metadata": {},
   "outputs": [
    {
     "data": {
      "text/plain": [
       "[(u'spark.driver.appUIAddress',\n",
       "  u'http://ip-172-31-43-229.us-east-2.compute.internal:4040'),\n",
       " (u'spark.blacklist.decommissioning.enabled', u'true'),\n",
       " (u'spark.eventLog.enabled', u'true'),\n",
       " (u'spark.driver.extraLibraryPath',\n",
       "  u'/usr/lib/hadoop/lib/native:/usr/lib/hadoop-lzo/lib/native'),\n",
       " (u'spark.blacklist.decommissioning.timeout', u'1h'),\n",
       " (u'spark.yarn.appMasterEnv.SPARK_PUBLIC_DNS', u'$(hostname -f)'),\n",
       " (u'spark.jars.packages', u''),\n",
       " (u'spark.executor.cores', u'4'),\n",
       " (u'spark.executor.extraJavaOptions',\n",
       "  u\"-verbose:gc -XX:+PrintGCDetails -XX:+PrintGCDateStamps -XX:+UseConcMarkSweepGC -XX:CMSInitiatingOccupancyFraction=70 -XX:MaxHeapFreeRatio=70 -XX:+CMSClassUnloadingEnabled -XX:OnOutOfMemoryError='kill -9 %p'\"),\n",
       " (u'spark.eventLog.dir', u'hdfs:///var/log/spark/apps'),\n",
       " (u'spark.app.id', u'application_1520019965821_0007'),\n",
       " (u'spark.sql.hive.metastore.sharedPrefixes',\n",
       "  u'com.amazonaws.services.dynamodbv2'),\n",
       " (u'spark.sql.warehouse.dir', u'hdfs:///user/spark/warehouse'),\n",
       " (u'spark.executor.memory', u'5120M'),\n",
       " (u'spark.serializer.objectStreamReset', u'100'),\n",
       " (u'spark.submit.deployMode', u'client'),\n",
       " (u'spark.org.apache.hadoop.yarn.server.webproxy.amfilter.AmIpFilter.param.PROXY_HOSTS',\n",
       "  u'ip-172-31-43-229.us-east-2.compute.internal'),\n",
       " (u'spark.history.fs.logDirectory', u'hdfs:///var/log/spark/apps'),\n",
       " (u'spark.ui.filters',\n",
       "  u'org.apache.hadoop.yarn.server.webproxy.amfilter.AmIpFilter'),\n",
       " (u'spark.history.ui.port', u'18080'),\n",
       " (u'spark.shuffle.service.enabled', u'true'),\n",
       " (u'spark.yarn.historyServer.address',\n",
       "  u'ip-172-31-43-229.us-east-2.compute.internal:18080'),\n",
       " (u'spark.hadoop.yarn.timeline-service.enabled', u'false'),\n",
       " (u'spark.resourceManager.cleanupExpiredHost', u'true'),\n",
       " (u'spark.driver.extraClassPath',\n",
       "  u'/usr/lib/hadoop-lzo/lib/*:/usr/lib/hadoop/hadoop-aws.jar:/usr/share/aws/aws-java-sdk/*:/usr/share/aws/emr/emrfs/conf:/usr/share/aws/emr/emrfs/lib/*:/usr/share/aws/emr/emrfs/auxlib/*:/usr/share/aws/emr/security/conf:/usr/share/aws/emr/security/lib/*:/usr/share/aws/hmclient/lib/aws-glue-datacatalog-spark-client.jar:/usr/share/java/Hive-JSON-Serde/hive-openx-serde.jar:/usr/share/aws/sagemaker-spark-sdk/lib/sagemaker-spark-sdk.jar'),\n",
       " (u'spark.executor.id', u'driver'),\n",
       " (u'spark.app.name', u'PySparkShell'),\n",
       " (u'spark.driver.extraJavaOptions',\n",
       "  u\"-XX:+UseConcMarkSweepGC -XX:CMSInitiatingOccupancyFraction=70 -XX:MaxHeapFreeRatio=70 -XX:+CMSClassUnloadingEnabled -XX:OnOutOfMemoryError='kill -9 %p'\"),\n",
       " (u'spark.org.apache.hadoop.yarn.server.webproxy.amfilter.AmIpFilter.param.PROXY_URI_BASES',\n",
       "  u'http://ip-172-31-43-229.us-east-2.compute.internal:20888/proxy/application_1520019965821_0007'),\n",
       " (u'spark.driver.host', u'172.31.43.229'),\n",
       " (u'spark.master', u'yarn'),\n",
       " (u'spark.decommissioning.timeout.threshold', u'20'),\n",
       " (u'spark.executorEnv.PYTHONPATH',\n",
       "  u'/usr/lib/spark/python/lib/py4j-0.10.4-src.zip:/usr/lib/spark/python/:<CPS>{{PWD}}/pyspark.zip<CPS>{{PWD}}/py4j-0.10.4-src.zip'),\n",
       " (u'spark.sql.catalogImplementation', u'hive'),\n",
       " (u'spark.stage.attempt.ignoreOnDecommissionFetchFailure', u'true'),\n",
       " (u'spark.rdd.compress', u'True'),\n",
       " (u'spark.executor.extraClassPath',\n",
       "  u'/usr/lib/hadoop-lzo/lib/*:/usr/lib/hadoop/hadoop-aws.jar:/usr/share/aws/aws-java-sdk/*:/usr/share/aws/emr/emrfs/conf:/usr/share/aws/emr/emrfs/lib/*:/usr/share/aws/emr/emrfs/auxlib/*:/usr/share/aws/emr/security/conf:/usr/share/aws/emr/security/lib/*:/usr/share/aws/hmclient/lib/aws-glue-datacatalog-spark-client.jar:/usr/share/java/Hive-JSON-Serde/hive-openx-serde.jar:/usr/share/aws/sagemaker-spark-sdk/lib/sagemaker-spark-sdk.jar'),\n",
       " (u'spark.executor.extraLibraryPath',\n",
       "  u'/usr/lib/hadoop/lib/native:/usr/lib/hadoop-lzo/lib/native'),\n",
       " (u'spark.yarn.isPython', u'true'),\n",
       " (u'spark.dynamicAllocation.enabled', u'true'),\n",
       " (u'spark.driver.port', u'37115')]"
      ]
     },
     "execution_count": 2,
     "metadata": {},
     "output_type": "execute_result"
    }
   ],
   "source": [
    "sc._conf.getAll() "
   ]
  },
  {
   "cell_type": "code",
   "execution_count": 2,
   "metadata": {},
   "outputs": [],
   "source": [
    "# reasonable tuning parameters for 8 worker nodes with 16gb and 4 cores each\n",
    "spark = SparkSession.builder \\\n",
    "    .appName('pyspark-exploration') \\\n",
    "    .config('spark.driver.cores', '4') \\\n",
    "    .config('spark.executor.memory', '16gb') \\\n",
    "    .config('spark.executor.cores', '4') \\\n",
    "    .getOrCreate()     "
   ]
  },
  {
   "cell_type": "code",
   "execution_count": 3,
   "metadata": {},
   "outputs": [],
   "source": [
    "def debug(df):\n",
    "    \"\"\"\n",
    "    Function to pretty print the toDebugString\n",
    "    \"\"\"\n",
    "    for rddstring in df.rdd.toDebugString().split('\\n'):\n",
    "        print rddstring.strip()"
   ]
  },
  {
   "cell_type": "markdown",
   "metadata": {},
   "source": [
    "### Load and prepare data"
   ]
  },
  {
   "cell_type": "markdown",
   "metadata": {},
   "source": [
    "Load in data and see what it looks like. We will be focusing on origin-destination (OD), residential area characteristics (RAC), and driving time/distance (drive)"
   ]
  },
  {
   "cell_type": "code",
   "execution_count": 4,
   "metadata": {},
   "outputs": [],
   "source": [
    "drive = spark.read.parquet('s3://lsdm-emr-util/lsdm-data/travel-times/drive_times.parquet')\n",
    "od = spark.read.parquet('s3://lsdm-emr-util/lsdm-data/lodes/od/od.parquet')\n",
    "rac = spark.read.parquet('s3://lsdm-emr-util/lsdm-data/lodes/rac/rac.parquet')"
   ]
  },
  {
   "cell_type": "code",
   "execution_count": 5,
   "metadata": {},
   "outputs": [
    {
     "name": "stdout",
     "output_type": "stream",
     "text": [
      "(122004331, 4)\n"
     ]
    },
    {
     "data": {
      "text/plain": [
       "[Row(from_tract=u'36103146402', to_tract=u'42091207003', miles=141.2, minutes=184.1),\n",
       " Row(from_tract=u'36103146402', to_tract=u'42091209000', miles=162.7, minutes=203.4)]"
      ]
     },
     "execution_count": 5,
     "metadata": {},
     "output_type": "execute_result"
    },
    {
     "data": {
      "text/plain": [
       "[('from_tract', 'string'),\n",
       " ('to_tract', 'string'),\n",
       " ('miles', 'double'),\n",
       " ('minutes', 'double')]"
      ]
     },
     "execution_count": 5,
     "metadata": {},
     "output_type": "execute_result"
    }
   ],
   "source": [
    "print((drive.count(), len(drive.columns)))\n",
    "drive.take(2)\n",
    "drive.dtypes"
   ]
  },
  {
   "cell_type": "code",
   "execution_count": 6,
   "metadata": {},
   "outputs": [
    {
     "name": "stdout",
     "output_type": "stream",
     "text": [
      "(1577789908, 14)\n"
     ]
    },
    {
     "data": {
      "text/plain": [
       "[Row(w_geocode=u'271630714002025', h_geocode=u'271630712082020', s000=1, sa01=0, sa02=1, sa03=0, se01=0, se02=1, se03=0, si01=1, si02=0, si03=0, createdate=u'20160219', year=2012),\n",
       " Row(w_geocode=u'271630714002025', h_geocode=u'271630712083004', s000=1, sa01=0, sa02=1, sa03=0, se01=0, se02=1, se03=0, si01=1, si02=0, si03=0, createdate=u'20160219', year=2012)]"
      ]
     },
     "execution_count": 6,
     "metadata": {},
     "output_type": "execute_result"
    },
    {
     "data": {
      "text/plain": [
       "[('w_geocode', 'string'),\n",
       " ('h_geocode', 'string'),\n",
       " ('s000', 'int'),\n",
       " ('sa01', 'int'),\n",
       " ('sa02', 'int'),\n",
       " ('sa03', 'int'),\n",
       " ('se01', 'int'),\n",
       " ('se02', 'int'),\n",
       " ('se03', 'int'),\n",
       " ('si01', 'int'),\n",
       " ('si02', 'int'),\n",
       " ('si03', 'int'),\n",
       " ('createdate', 'string'),\n",
       " ('year', 'int')]"
      ]
     },
     "execution_count": 6,
     "metadata": {},
     "output_type": "execute_result"
    }
   ],
   "source": [
    "print((od.count(), len(od.columns)))\n",
    "od.take(2)\n",
    "od.dtypes"
   ]
  },
  {
   "cell_type": "code",
   "execution_count": 7,
   "metadata": {},
   "outputs": [
    {
     "name": "stdout",
     "output_type": "stream",
     "text": [
      "(80870134, 44)\n"
     ]
    },
    {
     "data": {
      "text/plain": [
       "[Row(h_geocode=u'480019501001000', c000=12, ca01=4, ca02=6, ca03=2, ce01=4, ce02=5, ce03=3, cns01=0, cns02=1, cns03=0, cns04=0, cns05=1, cns06=2, cns07=2, cns08=0, cns09=0, cns10=0, cns11=1, cns12=0, cns13=0, cns14=0, cns15=1, cns16=2, cns17=0, cns18=2, cns19=0, cns20=0, cr01=10, cr02=2, cr03=0, cr04=0, cr05=0, cr07=0, ct01=8, ct02=4, cd01=1, cd02=3, cd03=1, cd04=3, cs01=8, cs02=4, createdate=u'20170919', year=2015),\n",
       " Row(h_geocode=u'480019501001001', c000=56, ca01=9, ca02=27, ca03=20, ce01=13, ce02=22, ce03=21, cns01=0, cns02=1, cns03=1, cns04=5, cns05=3, cns06=2, cns07=6, cns08=3, cns09=3, cns10=3, cns11=0, cns12=2, cns13=0, cns14=1, cns15=5, cns16=10, cns17=1, cns18=3, cns19=2, cns20=5, cr01=45, cr02=6, cr03=0, cr04=4, cr05=0, cr07=1, ct01=51, ct02=5, cd01=3, cd02=10, cd03=19, cd04=15, cs01=28, cs02=28, createdate=u'20170919', year=2015)]"
      ]
     },
     "execution_count": 7,
     "metadata": {},
     "output_type": "execute_result"
    },
    {
     "data": {
      "text/plain": [
       "[('h_geocode', 'string'),\n",
       " ('c000', 'int'),\n",
       " ('ca01', 'int'),\n",
       " ('ca02', 'int'),\n",
       " ('ca03', 'int'),\n",
       " ('ce01', 'int'),\n",
       " ('ce02', 'int'),\n",
       " ('ce03', 'int'),\n",
       " ('cns01', 'int'),\n",
       " ('cns02', 'int'),\n",
       " ('cns03', 'int'),\n",
       " ('cns04', 'int'),\n",
       " ('cns05', 'int'),\n",
       " ('cns06', 'int'),\n",
       " ('cns07', 'int'),\n",
       " ('cns08', 'int'),\n",
       " ('cns09', 'int'),\n",
       " ('cns10', 'int'),\n",
       " ('cns11', 'int'),\n",
       " ('cns12', 'int'),\n",
       " ('cns13', 'int'),\n",
       " ('cns14', 'int'),\n",
       " ('cns15', 'int'),\n",
       " ('cns16', 'int'),\n",
       " ('cns17', 'int'),\n",
       " ('cns18', 'int'),\n",
       " ('cns19', 'int'),\n",
       " ('cns20', 'int'),\n",
       " ('cr01', 'int'),\n",
       " ('cr02', 'int'),\n",
       " ('cr03', 'int'),\n",
       " ('cr04', 'int'),\n",
       " ('cr05', 'int'),\n",
       " ('cr07', 'int'),\n",
       " ('ct01', 'int'),\n",
       " ('ct02', 'int'),\n",
       " ('cd01', 'int'),\n",
       " ('cd02', 'int'),\n",
       " ('cd03', 'int'),\n",
       " ('cd04', 'int'),\n",
       " ('cs01', 'int'),\n",
       " ('cs02', 'int'),\n",
       " ('createdate', 'string'),\n",
       " ('year', 'int')]"
      ]
     },
     "execution_count": 7,
     "metadata": {},
     "output_type": "execute_result"
    }
   ],
   "source": [
    "print((rac.count(), len(rac.columns)))\n",
    "rac.take(2)\n",
    "rac.dtypes"
   ]
  },
  {
   "cell_type": "markdown",
   "metadata": {},
   "source": [
    "Make census tract and state columns in origin-destination and residential data"
   ]
  },
  {
   "cell_type": "code",
   "execution_count": 8,
   "metadata": {},
   "outputs": [],
   "source": [
    "od = od.withColumn('h_tract', substring(od.h_geocode, 0, 11))\\\n",
    "        .withColumn('w_tract', substring(od.w_geocode, 0, 11))\\\n",
    "        .withColumn('h_state', substring(od.h_geocode, 0, 2))\\\n",
    "        .withColumn('w_state', substring(od.w_geocode, 0, 2))"
   ]
  },
  {
   "cell_type": "code",
   "execution_count": 9,
   "metadata": {},
   "outputs": [],
   "source": [
    "rac = rac.withColumn('h_tract', substring(rac.h_geocode, 0, 11))\\\n",
    "        .withColumn('h_state', substring(rac.h_geocode, 0, 2))"
   ]
  },
  {
   "cell_type": "markdown",
   "metadata": {},
   "source": [
    "Make state column in drive data"
   ]
  },
  {
   "cell_type": "code",
   "execution_count": 10,
   "metadata": {},
   "outputs": [],
   "source": [
    "drive = drive.withColumn('from_state', substring(drive.from_tract, 0, 2))\\\n",
    "            .withColumn('to_state', substring(drive.to_tract, 0, 2))"
   ]
  },
  {
   "cell_type": "markdown",
   "metadata": {},
   "source": [
    "Make \"total\" and \"pct\" columns"
   ]
  },
  {
   "cell_type": "code",
   "execution_count": 11,
   "metadata": {},
   "outputs": [],
   "source": [
    "sa_cols = ['sa01', 'sa02', 'sa03']\n",
    "se_cols = ['se01', 'se02', 'se03']\n",
    "si_cols = ['si01', 'si02', 'si03']"
   ]
  },
  {
   "cell_type": "code",
   "execution_count": 12,
   "metadata": {},
   "outputs": [],
   "source": [
    "od = od.withColumn('sa_total', od.sa01+od.sa02+od.sa03)\\\n",
    "    .withColumn('se_total', od.se01+od.se02+od.se03)\\\n",
    "    .withColumn('si_total', od.si01+od.si02+od.si03)"
   ]
  },
  {
   "cell_type": "code",
   "execution_count": 13,
   "metadata": {},
   "outputs": [],
   "source": [
    "for cat_ls, cat_name in [(sa_cols, 'sa_total'), (se_cols, 'se_total'), (si_cols, 'si_total')]:\n",
    "    for col in cat_ls:\n",
    "        new = col + '_pct'\n",
    "        od = od.withColumn(new, od[col]/od[cat_name])"
   ]
  },
  {
   "cell_type": "markdown",
   "metadata": {},
   "source": [
    "Check out lineage and partitions of the two dataframes"
   ]
  },
  {
   "cell_type": "code",
   "execution_count": 15,
   "metadata": {},
   "outputs": [
    {
     "name": "stdout",
     "output_type": "stream",
     "text": [
      "(137) MapPartitionsRDD[36] at javaToPython at NativeMethodAccessorImpl.java:0 []\n",
      "|   MapPartitionsRDD[35] at javaToPython at NativeMethodAccessorImpl.java:0 []\n",
      "|   MapPartitionsRDD[34] at javaToPython at NativeMethodAccessorImpl.java:0 []\n",
      "|   FileScanRDD[33] at javaToPython at NativeMethodAccessorImpl.java:0 []\n"
     ]
    }
   ],
   "source": [
    "debug(od)"
   ]
  },
  {
   "cell_type": "code",
   "execution_count": 16,
   "metadata": {},
   "outputs": [
    {
     "name": "stdout",
     "output_type": "stream",
     "text": [
      "(57) MapPartitionsRDD[40] at javaToPython at NativeMethodAccessorImpl.java:0 []\n",
      "|   MapPartitionsRDD[39] at javaToPython at NativeMethodAccessorImpl.java:0 []\n",
      "|   MapPartitionsRDD[38] at javaToPython at NativeMethodAccessorImpl.java:0 []\n",
      "|   FileScanRDD[37] at javaToPython at NativeMethodAccessorImpl.java:0 []\n"
     ]
    }
   ],
   "source": [
    "debug(drive)"
   ]
  },
  {
   "cell_type": "code",
   "execution_count": 17,
   "metadata": {},
   "outputs": [
    {
     "data": {
      "text/plain": [
       "137"
      ]
     },
     "execution_count": 17,
     "metadata": {},
     "output_type": "execute_result"
    },
    {
     "data": {
      "text/plain": [
       "57"
      ]
     },
     "execution_count": 17,
     "metadata": {},
     "output_type": "execute_result"
    }
   ],
   "source": [
    "od.rdd.getNumPartitions()\n",
    "drive.rdd.getNumPartitions()"
   ]
  },
  {
   "cell_type": "markdown",
   "metadata": {},
   "source": [
    "### Join: origin-destination and driving dataframes  \n",
    "Assumption: travel time and distance for a census tract is the same for all its comprising block groups.\n",
    "\n",
    "Execution explanation:  \n",
    "Storage level = Serialized 1x Replicated  \n",
    "This join involved one job: 3 stages, 195 tasks, 16 executors running\n"
   ]
  },
  {
   "cell_type": "markdown",
   "metadata": {},
   "source": [
    "Try working with just California data first, where origin and destination are state code 06  \n",
    "Join od_ca and drive_ca"
   ]
  },
  {
   "cell_type": "code",
   "execution_count": 14,
   "metadata": {},
   "outputs": [],
   "source": [
    "od_ca = od.where(\"h_state == 06\" and \"w_state == 06\")"
   ]
  },
  {
   "cell_type": "code",
   "execution_count": 15,
   "metadata": {},
   "outputs": [],
   "source": [
    "drive_ca = drive.where('to_state == 06' and 'from_state == 06')"
   ]
  },
  {
   "cell_type": "code",
   "execution_count": 16,
   "metadata": {},
   "outputs": [],
   "source": [
    "df_ca = od_ca.join(drive_ca, [drive.from_tract == od.h_tract, drive.to_tract == od.w_tract])"
   ]
  },
  {
   "cell_type": "markdown",
   "metadata": {},
   "source": [
    "Now join full od with driving, giving us travel times for each origin-destination pair.  "
   ]
  },
  {
   "cell_type": "code",
   "execution_count": 17,
   "metadata": {},
   "outputs": [],
   "source": [
    "df = od.join(drive, [drive.from_tract == od.h_tract, drive.to_tract == od.w_tract])"
   ]
  },
  {
   "cell_type": "markdown",
   "metadata": {},
   "source": [
    "Resulting merged dataframe is split across 200 partitions, as we can see from the getNumPartitions method"
   ]
  },
  {
   "cell_type": "code",
   "execution_count": 23,
   "metadata": {},
   "outputs": [
    {
     "data": {
      "text/plain": [
       "200"
      ]
     },
     "execution_count": 23,
     "metadata": {},
     "output_type": "execute_result"
    }
   ],
   "source": [
    "df.rdd.getNumPartitions()"
   ]
  },
  {
   "cell_type": "code",
   "execution_count": 68,
   "metadata": {},
   "outputs": [
    {
     "name": "stdout",
     "output_type": "stream",
     "text": [
      "Serialized 1x Replicated\n"
     ]
    }
   ],
   "source": [
    "print(df.rdd.getStorageLevel())"
   ]
  },
  {
   "cell_type": "code",
   "execution_count": 24,
   "metadata": {
    "scrolled": false
   },
   "outputs": [
    {
     "name": "stdout",
     "output_type": "stream",
     "text": [
      "(200) MapPartitionsRDD[54] at javaToPython at NativeMethodAccessorImpl.java:0 []\n",
      "|   MapPartitionsRDD[53] at javaToPython at NativeMethodAccessorImpl.java:0 []\n",
      "|   MapPartitionsRDD[52] at javaToPython at NativeMethodAccessorImpl.java:0 []\n",
      "|   ZippedPartitionsRDD2[51] at javaToPython at NativeMethodAccessorImpl.java:0 []\n",
      "|   MapPartitionsRDD[45] at javaToPython at NativeMethodAccessorImpl.java:0 []\n",
      "|   ShuffledRowRDD[44] at javaToPython at NativeMethodAccessorImpl.java:0 []\n",
      "+-(137) MapPartitionsRDD[43] at javaToPython at NativeMethodAccessorImpl.java:0 []\n",
      "|   MapPartitionsRDD[42] at javaToPython at NativeMethodAccessorImpl.java:0 []\n",
      "|   FileScanRDD[41] at javaToPython at NativeMethodAccessorImpl.java:0 []\n",
      "|   MapPartitionsRDD[50] at javaToPython at NativeMethodAccessorImpl.java:0 []\n",
      "|   ShuffledRowRDD[49] at javaToPython at NativeMethodAccessorImpl.java:0 []\n",
      "+-(57) MapPartitionsRDD[48] at javaToPython at NativeMethodAccessorImpl.java:0 []\n",
      "|   MapPartitionsRDD[47] at javaToPython at NativeMethodAccessorImpl.java:0 []\n",
      "|   FileScanRDD[46] at javaToPython at NativeMethodAccessorImpl.java:0 []\n"
     ]
    }
   ],
   "source": [
    "debug(df)"
   ]
  },
  {
   "cell_type": "code",
   "execution_count": 25,
   "metadata": {
    "scrolled": true
   },
   "outputs": [
    {
     "data": {
      "text/plain": [
       "[Row(w_geocode=u'010830208013001', h_geocode=u'010010201002025', s000=1, sa01=0, sa02=1, sa03=0, se01=0, se02=0, se03=1, si01=0, si02=0, si03=1, createdate=u'20160229', year=2010, h_tract=u'01001020100', w_tract=u'01083020801', h_state=u'01', w_state=u'01', sa_total=1, se_total=1, si_total=1, sa01_pct=0.0, sa02_pct=1.0, sa03_pct=0.0, se01_pct=0.0, se02_pct=0.0, se03_pct=1.0, si01_pct=0.0, si02_pct=0.0, si03_pct=1.0, from_tract=u'01001020100', to_tract=u'01083020801', miles=181.5, minutes=215.9, from_state=u'01', to_state=u'01')]"
      ]
     },
     "execution_count": 25,
     "metadata": {},
     "output_type": "execute_result"
    }
   ],
   "source": [
    "df.take(1)"
   ]
  },
  {
   "cell_type": "markdown",
   "metadata": {},
   "source": [
    "### Grouped aggregation: proportion of goods-producing jobs per year"
   ]
  },
  {
   "cell_type": "markdown",
   "metadata": {},
   "source": [
    "Again, start with California only  \n",
    "\n",
    "The proportion of jobs in California in Goods Producing industry sectors (\"si01\") has steadily declined over the past decade as the economy moved away from manufacturing jobs. Goods Producing industry sector jobs used to make up ~20% of all jobs; now they make up 15%.\n",
    "\n",
    "\n",
    "Execution explanation:  \n",
    "Storage level = Serialized 1x Replicated  \n",
    "This aggregation involved one job: 4 stages, 594 tasks, 16 executors running\n"
   ]
  },
  {
   "cell_type": "code",
   "execution_count": 26,
   "metadata": {},
   "outputs": [],
   "source": [
    "agg_ca = df_ca.groupBy(\"year\").agg(sum(\"si01\"), sum('si02'), sum('si03'))\n",
    "results_ca = agg_ca.collect()"
   ]
  },
  {
   "cell_type": "code",
   "execution_count": 71,
   "metadata": {
    "scrolled": true
   },
   "outputs": [
    {
     "name": "stdout",
     "output_type": "stream",
     "text": [
      "Serialized 1x Replicated\n"
     ]
    }
   ],
   "source": [
    "print(agg_ca.rdd.getStorageLevel())"
   ]
  },
  {
   "cell_type": "code",
   "execution_count": 27,
   "metadata": {},
   "outputs": [],
   "source": [
    "agg_ca_df = pd.DataFrame(results_ca)"
   ]
  },
  {
   "cell_type": "code",
   "execution_count": 28,
   "metadata": {},
   "outputs": [],
   "source": [
    "agg_ca_df.columns = ['year', 'si01', 'si02', 'si03']\n",
    "agg_ca_df['total_jobs'] = agg_ca_df.si01 + agg_ca_df.si02 + agg_ca_df.si03"
   ]
  },
  {
   "cell_type": "code",
   "execution_count": 29,
   "metadata": {},
   "outputs": [],
   "source": [
    "agg_ca_df['pct_si01'] = agg_ca_df.si01 / agg_ca_df.total_jobs"
   ]
  },
  {
   "cell_type": "code",
   "execution_count": 30,
   "metadata": {},
   "outputs": [
    {
     "data": {
      "text/html": [
       "<div>\n",
       "<style scoped>\n",
       "    .dataframe tbody tr th:only-of-type {\n",
       "        vertical-align: middle;\n",
       "    }\n",
       "\n",
       "    .dataframe tbody tr th {\n",
       "        vertical-align: top;\n",
       "    }\n",
       "\n",
       "    .dataframe thead th {\n",
       "        text-align: right;\n",
       "    }\n",
       "</style>\n",
       "<table border=\"1\" class=\"dataframe\">\n",
       "  <thead>\n",
       "    <tr style=\"text-align: right;\">\n",
       "      <th></th>\n",
       "      <th>year</th>\n",
       "      <th>si01</th>\n",
       "      <th>si02</th>\n",
       "      <th>si03</th>\n",
       "      <th>total_jobs</th>\n",
       "      <th>pct_si01</th>\n",
       "    </tr>\n",
       "  </thead>\n",
       "  <tbody>\n",
       "    <tr>\n",
       "      <th>13</th>\n",
       "      <td>2002</td>\n",
       "      <td>1061707</td>\n",
       "      <td>1033147</td>\n",
       "      <td>3245012</td>\n",
       "      <td>5339866</td>\n",
       "      <td>0.198827</td>\n",
       "    </tr>\n",
       "    <tr>\n",
       "      <th>0</th>\n",
       "      <td>2003</td>\n",
       "      <td>1019401</td>\n",
       "      <td>1024673</td>\n",
       "      <td>3263365</td>\n",
       "      <td>5307439</td>\n",
       "      <td>0.192070</td>\n",
       "    </tr>\n",
       "    <tr>\n",
       "      <th>6</th>\n",
       "      <td>2004</td>\n",
       "      <td>1028667</td>\n",
       "      <td>1022742</td>\n",
       "      <td>3306224</td>\n",
       "      <td>5357633</td>\n",
       "      <td>0.192000</td>\n",
       "    </tr>\n",
       "    <tr>\n",
       "      <th>9</th>\n",
       "      <td>2005</td>\n",
       "      <td>1052749</td>\n",
       "      <td>1053289</td>\n",
       "      <td>3372850</td>\n",
       "      <td>5478888</td>\n",
       "      <td>0.192146</td>\n",
       "    </tr>\n",
       "    <tr>\n",
       "      <th>3</th>\n",
       "      <td>2006</td>\n",
       "      <td>1045599</td>\n",
       "      <td>1071275</td>\n",
       "      <td>3441228</td>\n",
       "      <td>5558102</td>\n",
       "      <td>0.188122</td>\n",
       "    </tr>\n",
       "    <tr>\n",
       "      <th>1</th>\n",
       "      <td>2007</td>\n",
       "      <td>1025099</td>\n",
       "      <td>1065219</td>\n",
       "      <td>3474935</td>\n",
       "      <td>5565253</td>\n",
       "      <td>0.184196</td>\n",
       "    </tr>\n",
       "    <tr>\n",
       "      <th>12</th>\n",
       "      <td>2008</td>\n",
       "      <td>967440</td>\n",
       "      <td>1052308</td>\n",
       "      <td>3553468</td>\n",
       "      <td>5573216</td>\n",
       "      <td>0.173587</td>\n",
       "    </tr>\n",
       "    <tr>\n",
       "      <th>8</th>\n",
       "      <td>2009</td>\n",
       "      <td>877083</td>\n",
       "      <td>977576</td>\n",
       "      <td>3534286</td>\n",
       "      <td>5388945</td>\n",
       "      <td>0.162756</td>\n",
       "    </tr>\n",
       "    <tr>\n",
       "      <th>10</th>\n",
       "      <td>2010</td>\n",
       "      <td>823689</td>\n",
       "      <td>978019</td>\n",
       "      <td>3610732</td>\n",
       "      <td>5412440</td>\n",
       "      <td>0.152184</td>\n",
       "    </tr>\n",
       "    <tr>\n",
       "      <th>11</th>\n",
       "      <td>2011</td>\n",
       "      <td>827560</td>\n",
       "      <td>1009758</td>\n",
       "      <td>3651098</td>\n",
       "      <td>5488416</td>\n",
       "      <td>0.150783</td>\n",
       "    </tr>\n",
       "    <tr>\n",
       "      <th>7</th>\n",
       "      <td>2012</td>\n",
       "      <td>824822</td>\n",
       "      <td>1018812</td>\n",
       "      <td>3702850</td>\n",
       "      <td>5546484</td>\n",
       "      <td>0.148711</td>\n",
       "    </tr>\n",
       "    <tr>\n",
       "      <th>4</th>\n",
       "      <td>2013</td>\n",
       "      <td>847619</td>\n",
       "      <td>1048702</td>\n",
       "      <td>3813783</td>\n",
       "      <td>5710104</td>\n",
       "      <td>0.148442</td>\n",
       "    </tr>\n",
       "    <tr>\n",
       "      <th>5</th>\n",
       "      <td>2014</td>\n",
       "      <td>891843</td>\n",
       "      <td>1067155</td>\n",
       "      <td>3908049</td>\n",
       "      <td>5867047</td>\n",
       "      <td>0.152009</td>\n",
       "    </tr>\n",
       "    <tr>\n",
       "      <th>2</th>\n",
       "      <td>2015</td>\n",
       "      <td>939611</td>\n",
       "      <td>1108226</td>\n",
       "      <td>4070729</td>\n",
       "      <td>6118566</td>\n",
       "      <td>0.153567</td>\n",
       "    </tr>\n",
       "  </tbody>\n",
       "</table>\n",
       "</div>"
      ],
      "text/plain": [
       "    year     si01     si02     si03  total_jobs  pct_si01\n",
       "13  2002  1061707  1033147  3245012     5339866  0.198827\n",
       "0   2003  1019401  1024673  3263365     5307439  0.192070\n",
       "6   2004  1028667  1022742  3306224     5357633  0.192000\n",
       "9   2005  1052749  1053289  3372850     5478888  0.192146\n",
       "3   2006  1045599  1071275  3441228     5558102  0.188122\n",
       "1   2007  1025099  1065219  3474935     5565253  0.184196\n",
       "12  2008   967440  1052308  3553468     5573216  0.173587\n",
       "8   2009   877083   977576  3534286     5388945  0.162756\n",
       "10  2010   823689   978019  3610732     5412440  0.152184\n",
       "11  2011   827560  1009758  3651098     5488416  0.150783\n",
       "7   2012   824822  1018812  3702850     5546484  0.148711\n",
       "4   2013   847619  1048702  3813783     5710104  0.148442\n",
       "5   2014   891843  1067155  3908049     5867047  0.152009\n",
       "2   2015   939611  1108226  4070729     6118566  0.153567"
      ]
     },
     "execution_count": 30,
     "metadata": {},
     "output_type": "execute_result"
    }
   ],
   "source": [
    "agg_ca_df.sort_values('year')"
   ]
  },
  {
   "cell_type": "markdown",
   "metadata": {},
   "source": [
    "Now do it for the whole country. We see a similar pattern of declining percentage of Goods Producing jobs."
   ]
  },
  {
   "cell_type": "code",
   "execution_count": 31,
   "metadata": {},
   "outputs": [],
   "source": [
    "agg_full = df.groupBy(\"year\").agg(sum(\"si01\"), sum('si02'), sum('si03'))\n",
    "results_full = agg_full.collect()"
   ]
  },
  {
   "cell_type": "code",
   "execution_count": 32,
   "metadata": {
    "scrolled": true
   },
   "outputs": [],
   "source": [
    "agg_full_df = pd.DataFrame(results_full)"
   ]
  },
  {
   "cell_type": "code",
   "execution_count": 33,
   "metadata": {},
   "outputs": [],
   "source": [
    "agg_full_df.columns = ['year', 'si01', 'si02', 'si03']\n",
    "agg_full_df['total_jobs'] = agg_full_df.si01 + agg_full_df.si02 + agg_full_df.si03"
   ]
  },
  {
   "cell_type": "code",
   "execution_count": 34,
   "metadata": {},
   "outputs": [],
   "source": [
    "agg_full_df['pct_si01'] = agg_full_df.si01 / agg_full_df.total_jobs"
   ]
  },
  {
   "cell_type": "code",
   "execution_count": 35,
   "metadata": {
    "scrolled": true
   },
   "outputs": [
    {
     "data": {
      "text/html": [
       "<div>\n",
       "<style scoped>\n",
       "    .dataframe tbody tr th:only-of-type {\n",
       "        vertical-align: middle;\n",
       "    }\n",
       "\n",
       "    .dataframe tbody tr th {\n",
       "        vertical-align: top;\n",
       "    }\n",
       "\n",
       "    .dataframe thead th {\n",
       "        text-align: right;\n",
       "    }\n",
       "</style>\n",
       "<table border=\"1\" class=\"dataframe\">\n",
       "  <thead>\n",
       "    <tr style=\"text-align: right;\">\n",
       "      <th></th>\n",
       "      <th>year</th>\n",
       "      <th>si01</th>\n",
       "      <th>si02</th>\n",
       "      <th>si03</th>\n",
       "      <th>total_jobs</th>\n",
       "      <th>pct_si01</th>\n",
       "    </tr>\n",
       "  </thead>\n",
       "  <tbody>\n",
       "    <tr>\n",
       "      <th>13</th>\n",
       "      <td>2002</td>\n",
       "      <td>9049198</td>\n",
       "      <td>9483453</td>\n",
       "      <td>27533384</td>\n",
       "      <td>46066035</td>\n",
       "      <td>0.196440</td>\n",
       "    </tr>\n",
       "    <tr>\n",
       "      <th>0</th>\n",
       "      <td>2003</td>\n",
       "      <td>8865886</td>\n",
       "      <td>9600409</td>\n",
       "      <td>27942515</td>\n",
       "      <td>46408810</td>\n",
       "      <td>0.191039</td>\n",
       "    </tr>\n",
       "    <tr>\n",
       "      <th>6</th>\n",
       "      <td>2004</td>\n",
       "      <td>9121645</td>\n",
       "      <td>9926406</td>\n",
       "      <td>29220115</td>\n",
       "      <td>48268166</td>\n",
       "      <td>0.188978</td>\n",
       "    </tr>\n",
       "    <tr>\n",
       "      <th>9</th>\n",
       "      <td>2005</td>\n",
       "      <td>9300469</td>\n",
       "      <td>10086742</td>\n",
       "      <td>29813064</td>\n",
       "      <td>49200275</td>\n",
       "      <td>0.189033</td>\n",
       "    </tr>\n",
       "    <tr>\n",
       "      <th>3</th>\n",
       "      <td>2006</td>\n",
       "      <td>9447083</td>\n",
       "      <td>10167374</td>\n",
       "      <td>30462147</td>\n",
       "      <td>50076604</td>\n",
       "      <td>0.188653</td>\n",
       "    </tr>\n",
       "    <tr>\n",
       "      <th>1</th>\n",
       "      <td>2007</td>\n",
       "      <td>9357236</td>\n",
       "      <td>10167600</td>\n",
       "      <td>30749160</td>\n",
       "      <td>50273996</td>\n",
       "      <td>0.186125</td>\n",
       "    </tr>\n",
       "    <tr>\n",
       "      <th>12</th>\n",
       "      <td>2008</td>\n",
       "      <td>9023304</td>\n",
       "      <td>10151678</td>\n",
       "      <td>31044813</td>\n",
       "      <td>50219795</td>\n",
       "      <td>0.179676</td>\n",
       "    </tr>\n",
       "    <tr>\n",
       "      <th>8</th>\n",
       "      <td>2009</td>\n",
       "      <td>7960944</td>\n",
       "      <td>9624079</td>\n",
       "      <td>30834938</td>\n",
       "      <td>48419961</td>\n",
       "      <td>0.164415</td>\n",
       "    </tr>\n",
       "    <tr>\n",
       "      <th>10</th>\n",
       "      <td>2010</td>\n",
       "      <td>7515555</td>\n",
       "      <td>9468287</td>\n",
       "      <td>31314073</td>\n",
       "      <td>48297915</td>\n",
       "      <td>0.155608</td>\n",
       "    </tr>\n",
       "    <tr>\n",
       "      <th>11</th>\n",
       "      <td>2011</td>\n",
       "      <td>7827414</td>\n",
       "      <td>9978429</td>\n",
       "      <td>32872199</td>\n",
       "      <td>50678042</td>\n",
       "      <td>0.154454</td>\n",
       "    </tr>\n",
       "    <tr>\n",
       "      <th>7</th>\n",
       "      <td>2012</td>\n",
       "      <td>7968824</td>\n",
       "      <td>10138958</td>\n",
       "      <td>33284584</td>\n",
       "      <td>51392366</td>\n",
       "      <td>0.155059</td>\n",
       "    </tr>\n",
       "    <tr>\n",
       "      <th>4</th>\n",
       "      <td>2013</td>\n",
       "      <td>8055568</td>\n",
       "      <td>10244986</td>\n",
       "      <td>33826994</td>\n",
       "      <td>52127548</td>\n",
       "      <td>0.154536</td>\n",
       "    </tr>\n",
       "    <tr>\n",
       "      <th>5</th>\n",
       "      <td>2014</td>\n",
       "      <td>8356186</td>\n",
       "      <td>10390904</td>\n",
       "      <td>34407571</td>\n",
       "      <td>53154661</td>\n",
       "      <td>0.157205</td>\n",
       "    </tr>\n",
       "    <tr>\n",
       "      <th>2</th>\n",
       "      <td>2015</td>\n",
       "      <td>8599917</td>\n",
       "      <td>10707646</td>\n",
       "      <td>35311446</td>\n",
       "      <td>54619009</td>\n",
       "      <td>0.157453</td>\n",
       "    </tr>\n",
       "  </tbody>\n",
       "</table>\n",
       "</div>"
      ],
      "text/plain": [
       "    year     si01      si02      si03  total_jobs  pct_si01\n",
       "13  2002  9049198   9483453  27533384    46066035  0.196440\n",
       "0   2003  8865886   9600409  27942515    46408810  0.191039\n",
       "6   2004  9121645   9926406  29220115    48268166  0.188978\n",
       "9   2005  9300469  10086742  29813064    49200275  0.189033\n",
       "3   2006  9447083  10167374  30462147    50076604  0.188653\n",
       "1   2007  9357236  10167600  30749160    50273996  0.186125\n",
       "12  2008  9023304  10151678  31044813    50219795  0.179676\n",
       "8   2009  7960944   9624079  30834938    48419961  0.164415\n",
       "10  2010  7515555   9468287  31314073    48297915  0.155608\n",
       "11  2011  7827414   9978429  32872199    50678042  0.154454\n",
       "7   2012  7968824  10138958  33284584    51392366  0.155059\n",
       "4   2013  8055568  10244986  33826994    52127548  0.154536\n",
       "5   2014  8356186  10390904  34407571    53154661  0.157205\n",
       "2   2015  8599917  10707646  35311446    54619009  0.157453"
      ]
     },
     "execution_count": 35,
     "metadata": {},
     "output_type": "execute_result"
    }
   ],
   "source": [
    "agg_full_df.sort_values('year')"
   ]
  },
  {
   "cell_type": "markdown",
   "metadata": {},
   "source": [
    "### Window function:  central moving average\n",
    "\n",
    "Central moving average = the average between previous year, current year, and next year\n",
    "\n",
    "Using the RAC dataset, calculate the central moving average number of jobs for each census tract and year  \n",
    "Aggregating to census tract instead of staying at block group level to get larger number of jobs to work with\n",
    "\n",
    "Execution explanation:  \n",
    "Storage level = Serialized 1x Replicated  \n",
    "This window function involved one job: 3 stages, 465 tasks, 16 executors running"
   ]
  },
  {
   "cell_type": "code",
   "execution_count": 36,
   "metadata": {},
   "outputs": [],
   "source": [
    "rac_tract = rac.groupBy(\"h_state\", \"h_tract\", \"year\").agg(sum(\"c000\").alias('c000'))"
   ]
  },
  {
   "cell_type": "code",
   "execution_count": 70,
   "metadata": {},
   "outputs": [
    {
     "name": "stdout",
     "output_type": "stream",
     "text": [
      "Serialized 1x Replicated\n"
     ]
    }
   ],
   "source": [
    "print(rac_tract.rdd.getStorageLevel())"
   ]
  },
  {
   "cell_type": "code",
   "execution_count": 37,
   "metadata": {},
   "outputs": [],
   "source": [
    "window = Window.partitionBy(\"h_state\", \"h_tract\")\\\n",
    "            .orderBy(\"year\")\\\n",
    "            .rowsBetween(Window.currentRow -1, Window.currentRow + 1)\n",
    "avg_jobs = avg('c000').over(window)"
   ]
  },
  {
   "cell_type": "code",
   "execution_count": 38,
   "metadata": {},
   "outputs": [],
   "source": [
    "rac_tract_avg = rac_tract.select('year', 'h_state', 'h_tract', avg_jobs.alias(\"central_avg_jobs\"))\\\n",
    "                    .orderBy('h_tract', 'year')"
   ]
  },
  {
   "cell_type": "code",
   "execution_count": 39,
   "metadata": {
    "scrolled": true
   },
   "outputs": [
    {
     "name": "stdout",
     "output_type": "stream",
     "text": [
      "+----+-------+-----------+-----------------+\n",
      "|year|h_state|    h_tract| central_avg_jobs|\n",
      "+----+-------+-----------+-----------------+\n",
      "|2002|     01|01001020100|            812.0|\n",
      "|2003|     01|01001020100|            803.0|\n",
      "|2004|     01|01001020100|796.3333333333334|\n",
      "|2005|     01|01001020100|825.3333333333334|\n",
      "|2006|     01|01001020100|865.6666666666666|\n",
      "|2007|     01|01001020100|913.3333333333334|\n",
      "|2008|     01|01001020100|            910.0|\n",
      "|2009|     01|01001020100|877.3333333333334|\n",
      "|2010|     01|01001020100|822.6666666666666|\n",
      "|2011|     01|01001020100|            768.0|\n",
      "|2012|     01|01001020100|737.3333333333334|\n",
      "|2013|     01|01001020100|739.3333333333334|\n",
      "|2014|     01|01001020100|769.3333333333334|\n",
      "|2015|     01|01001020100|            796.0|\n",
      "|2002|     01|01001020200|            798.5|\n",
      "+----+-------+-----------+-----------------+\n",
      "\n"
     ]
    }
   ],
   "source": [
    "rac_tract_avg.limit(15).show()"
   ]
  },
  {
   "cell_type": "markdown",
   "metadata": {},
   "source": [
    "Now do the same window function at the state level"
   ]
  },
  {
   "cell_type": "code",
   "execution_count": 40,
   "metadata": {},
   "outputs": [],
   "source": [
    "rac_state = rac.groupBy(\"h_state\", \"year\").agg(sum(\"c000\").alias('c000'))"
   ]
  },
  {
   "cell_type": "code",
   "execution_count": 41,
   "metadata": {},
   "outputs": [],
   "source": [
    "window = Window.partitionBy(\"h_state\")\\\n",
    "            .orderBy(\"year\")\\\n",
    "            .rowsBetween(Window.currentRow -1, Window.currentRow + 1)\n",
    "avg_jobs = avg('c000').over(window)"
   ]
  },
  {
   "cell_type": "code",
   "execution_count": 42,
   "metadata": {},
   "outputs": [],
   "source": [
    "rac_state_avg = rac_state.select('year', 'h_state', avg_jobs.alias(\"central_avg_jobs\"))\\\n",
    "                    .orderBy('h_state', 'year')"
   ]
  },
  {
   "cell_type": "code",
   "execution_count": 43,
   "metadata": {},
   "outputs": [
    {
     "name": "stdout",
     "output_type": "stream",
     "text": [
      "+----+-------+------------------+\n",
      "|year|h_state|  central_avg_jobs|\n",
      "+----+-------+------------------+\n",
      "|2002|     01|         1745139.5|\n",
      "|2003|     01|1758568.3333333333|\n",
      "|2004|     01|1784936.6666666667|\n",
      "|2005|     01|         1822408.0|\n",
      "|2006|     01|1865657.6666666667|\n",
      "|2007|     01|         1893308.0|\n",
      "|2008|     01|1880450.6666666667|\n",
      "|2009|     01|1846898.3333333333|\n",
      "|2010|     01|1821696.3333333333|\n",
      "|2011|     01|         1830625.0|\n",
      "|2012|     01|1846254.6666666667|\n",
      "|2013|     01|1861588.6666666667|\n",
      "|2014|     01|         1881262.0|\n",
      "|2015|     01|         1891189.5|\n",
      "|2002|     02|          242873.5|\n",
      "+----+-------+------------------+\n",
      "\n"
     ]
    }
   ],
   "source": [
    "rac_state_avg.limit(15).show()"
   ]
  },
  {
   "cell_type": "markdown",
   "metadata": {},
   "source": [
    "### Reshape RAC data from long to wide based on year column\n",
    "\n",
    "Resulting dataframe has one line per census tract and columns for each year, containing total number of jobs that year\n",
    "\n",
    "Execution explanation:  \n",
    "Storage level = Serialized 1x Replicated  \n",
    "This pivot involved one job: 3 stages, 266 tasks, 16 executors running"
   ]
  },
  {
   "cell_type": "code",
   "execution_count": 44,
   "metadata": {},
   "outputs": [],
   "source": [
    "pivoted_rac_tract = rac_tract.groupby('h_state', 'h_tract')\\\n",
    "    .pivot(\"year\")\\\n",
    "    .sum(\"c000\")"
   ]
  },
  {
   "cell_type": "code",
   "execution_count": 72,
   "metadata": {},
   "outputs": [
    {
     "name": "stdout",
     "output_type": "stream",
     "text": [
      "Serialized 1x Replicated\n"
     ]
    }
   ],
   "source": [
    "print(pivoted_rac_tract.rdd.getStorageLevel())"
   ]
  },
  {
   "cell_type": "code",
   "execution_count": 45,
   "metadata": {
    "scrolled": false
   },
   "outputs": [
    {
     "name": "stdout",
     "output_type": "stream",
     "text": [
      "+-------+-----------+----+----+----+----+----+----+----+----+----+----+----+----+----+----+\n",
      "|h_state|    h_tract|2002|2003|2004|2005|2006|2007|2008|2009|2010|2011|2012|2013|2014|2015|\n",
      "+-------+-----------+----+----+----+----+----+----+----+----+----+----+----+----+----+----+\n",
      "|     48|48201322600|2132|2091|2208|2314|2316|2439|2557|2661|2266|2077|2096|1978|2424|2401|\n",
      "|     48|48381020800|3080|2937|3089|3039|3452|3292|3269|3613|3350|3117|3097|3266|3461|3422|\n",
      "|     06|06073015000|2424|2517|2419|2449|2509|2513|2571|2643|2580|2342|2310|2380|2873|2959|\n",
      "|     53|53021020200|1974|2086|1953|2106|2073|2038|1949|2561|1832|1503|1543|1547|1881|2038|\n",
      "|     04|04013108200|  15|   1|1719|1734|1773|1842|1905|2117|1612|1591|1543|1565|1711|1746|\n",
      "+-------+-----------+----+----+----+----+----+----+----+----+----+----+----+----+----+----+\n",
      "\n"
     ]
    }
   ],
   "source": [
    "pivoted_rac_tract.limit(5).show()"
   ]
  },
  {
   "cell_type": "markdown",
   "metadata": {},
   "source": [
    "Do the same thing at the state level"
   ]
  },
  {
   "cell_type": "code",
   "execution_count": 46,
   "metadata": {},
   "outputs": [],
   "source": [
    "pivoted_rac_state = rac_state.groupby('h_state')\\\n",
    "    .pivot(\"year\")\\\n",
    "    .sum(\"c000\")"
   ]
  },
  {
   "cell_type": "code",
   "execution_count": 47,
   "metadata": {},
   "outputs": [
    {
     "name": "stdout",
     "output_type": "stream",
     "text": [
      "+-------+-------+-------+-------+-------+-------+-------+-------+-------+-------+-------+-------+-------+-------+-------+\n",
      "|h_state|   2002|   2003|   2004|   2005|   2006|   2007|   2008|   2009|   2010|   2011|   2012|   2013|   2014|   2015|\n",
      "+-------+-------+-------+-------+-------+-------+-------+-------+-------+-------+-------+-------+-------+-------+-------+\n",
      "|     51|3115746|3039413|3140971|3261565|3316266|3389642|3364738|3274453|3446220|3528289|3550481|3599681|3623853|3673649|\n",
      "|     15| 448160| 459999| 473043| 490552| 506974| 516731| 518413| 486418| 483947| 495113| 502679| 516750| 523966| 529132|\n",
      "|     54| 672789| 661516| 667101| 674951| 674215| 688240| 691692| 677582| 709052| 723379| 738506| 733898| 730533| 724335|\n",
      "|     11|  79959|  69571|  72757|  74331|  77594|  81112|  84626|  83308| 266105| 267255| 272790| 277664| 286131| 299637|\n",
      "|     29|2443327|2442090|2450992|2496372|2532367|2569849|2613216|2514606|2514003|2554184|2570955|2601537|2642887|2685392|\n",
      "+-------+-------+-------+-------+-------+-------+-------+-------+-------+-------+-------+-------+-------+-------+-------+\n",
      "\n"
     ]
    }
   ],
   "source": [
    "pivoted_rac_state.limit(5).show()"
   ]
  },
  {
   "cell_type": "markdown",
   "metadata": {},
   "source": [
    "Prepare the state-level pivot for plotting"
   ]
  },
  {
   "cell_type": "code",
   "execution_count": 48,
   "metadata": {},
   "outputs": [],
   "source": [
    "rac_state_df = pd.DataFrame(pivoted_rac_state.collect())"
   ]
  },
  {
   "cell_type": "code",
   "execution_count": 49,
   "metadata": {},
   "outputs": [],
   "source": [
    "rac_state_df.set_index(0, inplace=True)\n",
    "rac_state_df.columns = [year for year in range(2002, 2016)]"
   ]
  },
  {
   "cell_type": "code",
   "execution_count": 50,
   "metadata": {},
   "outputs": [
    {
     "data": {
      "text/html": [
       "<div>\n",
       "<style scoped>\n",
       "    .dataframe tbody tr th:only-of-type {\n",
       "        vertical-align: middle;\n",
       "    }\n",
       "\n",
       "    .dataframe tbody tr th {\n",
       "        vertical-align: top;\n",
       "    }\n",
       "\n",
       "    .dataframe thead th {\n",
       "        text-align: right;\n",
       "    }\n",
       "</style>\n",
       "<table border=\"1\" class=\"dataframe\">\n",
       "  <thead>\n",
       "    <tr style=\"text-align: right;\">\n",
       "      <th></th>\n",
       "      <th>2002</th>\n",
       "      <th>2003</th>\n",
       "      <th>2004</th>\n",
       "      <th>2005</th>\n",
       "      <th>2006</th>\n",
       "      <th>2007</th>\n",
       "      <th>2008</th>\n",
       "      <th>2009</th>\n",
       "      <th>2010</th>\n",
       "      <th>2011</th>\n",
       "      <th>2012</th>\n",
       "      <th>2013</th>\n",
       "      <th>2014</th>\n",
       "      <th>2015</th>\n",
       "    </tr>\n",
       "    <tr>\n",
       "      <th>0</th>\n",
       "      <th></th>\n",
       "      <th></th>\n",
       "      <th></th>\n",
       "      <th></th>\n",
       "      <th></th>\n",
       "      <th></th>\n",
       "      <th></th>\n",
       "      <th></th>\n",
       "      <th></th>\n",
       "      <th></th>\n",
       "      <th></th>\n",
       "      <th></th>\n",
       "      <th></th>\n",
       "      <th></th>\n",
       "    </tr>\n",
       "  </thead>\n",
       "  <tbody>\n",
       "    <tr>\n",
       "      <th>51</th>\n",
       "      <td>3115746</td>\n",
       "      <td>3039413</td>\n",
       "      <td>3140971</td>\n",
       "      <td>3261565</td>\n",
       "      <td>3316266</td>\n",
       "      <td>3389642</td>\n",
       "      <td>3364738</td>\n",
       "      <td>3274453.0</td>\n",
       "      <td>3446220.0</td>\n",
       "      <td>3528289.0</td>\n",
       "      <td>3550481.0</td>\n",
       "      <td>3599681.0</td>\n",
       "      <td>3623853.0</td>\n",
       "      <td>3673649.0</td>\n",
       "    </tr>\n",
       "    <tr>\n",
       "      <th>15</th>\n",
       "      <td>448160</td>\n",
       "      <td>459999</td>\n",
       "      <td>473043</td>\n",
       "      <td>490552</td>\n",
       "      <td>506974</td>\n",
       "      <td>516731</td>\n",
       "      <td>518413</td>\n",
       "      <td>486418.0</td>\n",
       "      <td>483947.0</td>\n",
       "      <td>495113.0</td>\n",
       "      <td>502679.0</td>\n",
       "      <td>516750.0</td>\n",
       "      <td>523966.0</td>\n",
       "      <td>529132.0</td>\n",
       "    </tr>\n",
       "    <tr>\n",
       "      <th>54</th>\n",
       "      <td>672789</td>\n",
       "      <td>661516</td>\n",
       "      <td>667101</td>\n",
       "      <td>674951</td>\n",
       "      <td>674215</td>\n",
       "      <td>688240</td>\n",
       "      <td>691692</td>\n",
       "      <td>677582.0</td>\n",
       "      <td>709052.0</td>\n",
       "      <td>723379.0</td>\n",
       "      <td>738506.0</td>\n",
       "      <td>733898.0</td>\n",
       "      <td>730533.0</td>\n",
       "      <td>724335.0</td>\n",
       "    </tr>\n",
       "    <tr>\n",
       "      <th>11</th>\n",
       "      <td>79959</td>\n",
       "      <td>69571</td>\n",
       "      <td>72757</td>\n",
       "      <td>74331</td>\n",
       "      <td>77594</td>\n",
       "      <td>81112</td>\n",
       "      <td>84626</td>\n",
       "      <td>83308.0</td>\n",
       "      <td>266105.0</td>\n",
       "      <td>267255.0</td>\n",
       "      <td>272790.0</td>\n",
       "      <td>277664.0</td>\n",
       "      <td>286131.0</td>\n",
       "      <td>299637.0</td>\n",
       "    </tr>\n",
       "    <tr>\n",
       "      <th>29</th>\n",
       "      <td>2443327</td>\n",
       "      <td>2442090</td>\n",
       "      <td>2450992</td>\n",
       "      <td>2496372</td>\n",
       "      <td>2532367</td>\n",
       "      <td>2569849</td>\n",
       "      <td>2613216</td>\n",
       "      <td>2514606.0</td>\n",
       "      <td>2514003.0</td>\n",
       "      <td>2554184.0</td>\n",
       "      <td>2570955.0</td>\n",
       "      <td>2601537.0</td>\n",
       "      <td>2642887.0</td>\n",
       "      <td>2685392.0</td>\n",
       "    </tr>\n",
       "  </tbody>\n",
       "</table>\n",
       "</div>"
      ],
      "text/plain": [
       "       2002     2003     2004     2005     2006     2007     2008       2009  \\\n",
       "0                                                                              \n",
       "51  3115746  3039413  3140971  3261565  3316266  3389642  3364738  3274453.0   \n",
       "15   448160   459999   473043   490552   506974   516731   518413   486418.0   \n",
       "54   672789   661516   667101   674951   674215   688240   691692   677582.0   \n",
       "11    79959    69571    72757    74331    77594    81112    84626    83308.0   \n",
       "29  2443327  2442090  2450992  2496372  2532367  2569849  2613216  2514606.0   \n",
       "\n",
       "         2010       2011       2012       2013       2014       2015  \n",
       "0                                                                     \n",
       "51  3446220.0  3528289.0  3550481.0  3599681.0  3623853.0  3673649.0  \n",
       "15   483947.0   495113.0   502679.0   516750.0   523966.0   529132.0  \n",
       "54   709052.0   723379.0   738506.0   733898.0   730533.0   724335.0  \n",
       "11   266105.0   267255.0   272790.0   277664.0   286131.0   299637.0  \n",
       "29  2514003.0  2554184.0  2570955.0  2601537.0  2642887.0  2685392.0  "
      ]
     },
     "execution_count": 50,
     "metadata": {},
     "output_type": "execute_result"
    }
   ],
   "source": [
    "rac_state_df.head()"
   ]
  },
  {
   "cell_type": "markdown",
   "metadata": {},
   "source": [
    "Plot the trend at the state level. The legend is removed because it is too large to display. It would be interesting to investigate the few states that experienced big jumps in number of jobs."
   ]
  },
  {
   "cell_type": "code",
   "execution_count": 51,
   "metadata": {},
   "outputs": [
    {
     "data": {
      "image/png": "[encoded data removed]",
      "text/plain": [
       "<matplotlib.figure.Figure at 0x7fea5d31af10>"
      ]
     },
     "metadata": {},
     "output_type": "display_data"
    }
   ],
   "source": [
    "ax = rac_state_df.T.plot(legend=False, figsize=(15,10))\n",
    "_ = ax.set_xlabel(\"year\")\n",
    "_ = ax.set_ylabel(\"total jobs in state\")\n",
    "_ = ax.set_title('total jobs per year by state')"
   ]
  },
  {
   "cell_type": "markdown",
   "metadata": {},
   "source": [
    "### Analysis: How do age and earnings affect distance and time traveled for work in California?\n",
    "\n",
    "Regression equation 1:  \n",
    "dist = b0 + b1&ast;sa02_pct + b2&ast;sa03_pct + b3&ast;se02_pct + b4&ast;se03_pct + b5&ast;sa02&ast;se02 + b6&ast;sa02&ast;se03 + b7&ast;sa03&ast;se02 + b8&ast;sa03&ast;se03 + error  \n",
    "\n",
    "Regression equation 2:  \n",
    "minutes = b0 + b1&ast;sa02_pct + b2&ast;sa03_pct + b3&ast;se02_pct + b4&ast;se03_pct + b5&ast;sa02&ast;se02 + b6&ast;sa02&ast;se03 + b7&ast;sa03&ast;se02 + b8&ast;sa03&ast;se03 + error  \n",
    "\n",
    "Regressors:\n",
    "sa02 = % of jobs for workers age 30 to 54  \n",
    "sa03 = % of jobs for workers age 55 or older  \n",
    "se02 = % of jobs with earnings 1251/month to 3333/month  \n",
    "se03 = % of jobs with earnings greater than 3333/month  \n",
    "Interaction terms between age and earnings\n",
    "\n",
    "Note: \n",
    "- First category of each group (age an earnings) are left out of equation to serve as baseline\n",
    "- Filtering data to 2015 so that each origin/destination pair only counts as one observation\n",
    "\n",
    "This regression explores the relationship between job distribution (by age and earnings) and travel distance by census block. By regressing travel distance on these four variables and their interactions, we can evaluate whether the distribution of age and earnings of jobs in a origin/destination pair has an effect on the estimated travel distance.   \n",
    "\n",
    "The results show that the relationship is very weak.\n",
    "R-squared is very low, meaning that very little of the variance in outcome can be explained by regressors.  \n",
    "RMSE is the standard deviation of the unexplained variance and is in the same units as the outcome variable. It is very high and exceeds the intercept in both regressions. As a result, we cannot make any significant inferences about how age and earnings affect distance and travel time to work."
   ]
  },
  {
   "cell_type": "markdown",
   "metadata": {},
   "source": [
    "Execution explanation:  \n",
    "Storage level = Serialized 1x Replicated  \n",
    "This regression involved one job: 3 stages, 203 tasks, 16 executors running\n"
   ]
  },
  {
   "cell_type": "markdown",
   "metadata": {},
   "source": [
    "Start with regression equation 1, for travel distance"
   ]
  },
  {
   "cell_type": "code",
   "execution_count": 52,
   "metadata": {},
   "outputs": [],
   "source": [
    "df_ca_15 = df_ca.where('year == 2015')"
   ]
  },
  {
   "cell_type": "code",
   "execution_count": 53,
   "metadata": {},
   "outputs": [],
   "source": [
    "df_ca_reg = df_ca_15[['miles', 'sa02_pct', 'sa03_pct', 'se02_pct', 'se03_pct']]"
   ]
  },
  {
   "cell_type": "code",
   "execution_count": 54,
   "metadata": {},
   "outputs": [],
   "source": [
    "# make interaction variables\n",
    "for sa in ['sa02_pct', 'sa03_pct']:\n",
    "    for se in ['se02_pct', 'se03_pct']:\n",
    "        df_ca_reg = df_ca_reg.withColumn(sa+'_'+se, df_ca_reg[sa]*df_ca_reg[se])"
   ]
  },
  {
   "cell_type": "code",
   "execution_count": 55,
   "metadata": {},
   "outputs": [
    {
     "name": "stdout",
     "output_type": "stream",
     "text": [
      "+--------------------+-----+\n",
      "|            features|label|\n",
      "+--------------------+-----+\n",
      "|[0.0,0.0,1.0,0.0,...| 16.9|\n",
      "|[1.0,0.0,0.0,1.0,...| 45.3|\n",
      "|[1.0,0.0,1.0,0.0,...| 16.3|\n",
      "|[0.0,1.0,0.0,1.0,...| 16.3|\n",
      "|[0.0,0.0,0.0,0.0,...| 16.1|\n",
      "+--------------------+-----+\n",
      "only showing top 5 rows\n",
      "\n"
     ]
    }
   ],
   "source": [
    "# prepare data into required \"features\" and \"label\" format for regression\n",
    "df_ca_reg_vect = df_ca_reg.rdd.map(lambda x: [Vectors.dense(x[1:9]), x[0]]).toDF(['features', 'label'])\n",
    "df_ca_reg_vect.show(5)"
   ]
  },
  {
   "cell_type": "code",
   "execution_count": 56,
   "metadata": {},
   "outputs": [],
   "source": [
    "# make linear regression object\n",
    "lr = LinearRegression(featuresCol = 'features', labelCol = 'label')"
   ]
  },
  {
   "cell_type": "code",
   "execution_count": 57,
   "metadata": {},
   "outputs": [],
   "source": [
    "# fit model to our data\n",
    "lr_model = lr.fit(df_ca_reg_vect)"
   ]
  },
  {
   "cell_type": "code",
   "execution_count": 58,
   "metadata": {},
   "outputs": [],
   "source": [
    "# make predictions\n",
    "predictions = lr_model.transform(df_ca_reg_vect)"
   ]
  },
  {
   "cell_type": "code",
   "execution_count": 59,
   "metadata": {},
   "outputs": [
    {
     "name": "stdout",
     "output_type": "stream",
     "text": [
      "Coefficients: [-5.20069749368,-6.75821022896,-0.624502741377,-2.60083610515,2.36450737604,5.1353691419,2.90806506367,6.16610561017]\n",
      "Intercept: 28.8845515055\n"
     ]
    }
   ],
   "source": [
    "# print the coefficients and intercept \n",
    "print(\"Coefficients: %s\" % str(lr_model.coefficients))\n",
    "print(\"Intercept: %s\" % str(lr_model.intercept))"
   ]
  },
  {
   "cell_type": "code",
   "execution_count": 60,
   "metadata": {},
   "outputs": [
    {
     "name": "stdout",
     "output_type": "stream",
     "text": [
      "RMSE: 35.0107977797\n",
      "r2: 0.00217250860293\n"
     ]
    }
   ],
   "source": [
    "# evaluate results\n",
    "trainingSummary = lr_model.summary\n",
    "print(\"RMSE: {}\".format(trainingSummary.rootMeanSquaredError))\n",
    "print(\"r2: {}\".format(trainingSummary.r2))"
   ]
  },
  {
   "cell_type": "markdown",
   "metadata": {},
   "source": [
    "Now try regression equation 2, time traveled"
   ]
  },
  {
   "cell_type": "code",
   "execution_count": 61,
   "metadata": {},
   "outputs": [],
   "source": [
    "df_ca_reg = df_ca_15[['minutes', 'sa02_pct', 'sa03_pct', 'se02_pct', 'se03_pct']]"
   ]
  },
  {
   "cell_type": "code",
   "execution_count": 62,
   "metadata": {},
   "outputs": [
    {
     "name": "stdout",
     "output_type": "stream",
     "text": [
      "+-----------------+-----+\n",
      "|         features|label|\n",
      "+-----------------+-----+\n",
      "|[0.0,0.0,1.0,0.0]| 24.2|\n",
      "|[1.0,0.0,0.0,1.0]| 60.8|\n",
      "|[1.0,0.0,1.0,0.0]| 22.2|\n",
      "|[0.0,1.0,0.0,1.0]| 22.2|\n",
      "|[0.0,0.0,0.0,0.0]| 24.9|\n",
      "+-----------------+-----+\n",
      "only showing top 5 rows\n",
      "\n"
     ]
    }
   ],
   "source": [
    "# prepare data into required \"features\" and \"label\" format for regression\n",
    "\n",
    "df_ca_reg_vect = df_ca_reg.rdd.map(lambda x: [Vectors.dense(x[1:9]), x[0]]).toDF(['features', 'label'])\n",
    "df_ca_reg_vect.show(5)"
   ]
  },
  {
   "cell_type": "code",
   "execution_count": 63,
   "metadata": {},
   "outputs": [],
   "source": [
    "# make linear regression object\n",
    "lr = LinearRegression(featuresCol = 'features', labelCol = 'label')"
   ]
  },
  {
   "cell_type": "code",
   "execution_count": 64,
   "metadata": {},
   "outputs": [],
   "source": [
    "# fit model to our data\n",
    "lr_model = lr.fit(df_ca_reg_vect)"
   ]
  },
  {
   "cell_type": "code",
   "execution_count": 65,
   "metadata": {},
   "outputs": [],
   "source": [
    "# make predictions\n",
    "predictions = lr_model.transform(df_ca_reg_vect)"
   ]
  },
  {
   "cell_type": "code",
   "execution_count": 66,
   "metadata": {},
   "outputs": [
    {
     "name": "stdout",
     "output_type": "stream",
     "text": [
      "Coefficients: [-3.71211382637,-4.69138754015,1.49404738438,2.66253720749]\n",
      "Intercept: 37.6802550132\n"
     ]
    }
   ],
   "source": [
    "# print the coefficients and intercept \n",
    "print(\"Coefficients: %s\" % str(lr_model.coefficients))\n",
    "print(\"Intercept: %s\" % str(lr_model.intercept))"
   ]
  },
  {
   "cell_type": "code",
   "execution_count": 67,
   "metadata": {},
   "outputs": [
    {
     "name": "stdout",
     "output_type": "stream",
     "text": [
      "RMSE: 43.3768570689\n",
      "r2: 0.00162553820719\n"
     ]
    }
   ],
   "source": [
    "# evaluate results\n",
    "trainingSummary = lr_model.summary\n",
    "print(\"RMSE: {}\".format(trainingSummary.rootMeanSquaredError))\n",
    "print(\"r2: {}\".format(trainingSummary.r2))"
   ]
  }
 ],
 "metadata": {
  "kernelspec": {
   "display_name": "Python 2",
   "language": "python",
   "name": "python2"
  },
  "language_info": {
   "codemirror_mode": {
    "name": "ipython",
    "version": 2
   },
   "file_extension": ".py",
   "mimetype": "text/x-python",
   "name": "python",
   "nbconvert_exporter": "python",
   "pygments_lexer": "ipython2",
   "version": "2.7.12"
  }
 },
 "nbformat": 4,
 "nbformat_minor": 2
}
